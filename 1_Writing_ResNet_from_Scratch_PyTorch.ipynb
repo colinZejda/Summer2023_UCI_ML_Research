{
  "nbformat": 4,
  "nbformat_minor": 0,
  "metadata": {
    "colab": {
      "provenance": [],
      "authorship_tag": "ABX9TyPijXOz3Pf/0bQ07kTZpubF",
      "include_colab_link": true
    },
    "kernelspec": {
      "name": "python3",
      "display_name": "Python 3"
    },
    "language_info": {
      "name": "python"
    }
  },
  "cells": [
    {
      "cell_type": "markdown",
      "metadata": {
        "id": "view-in-github",
        "colab_type": "text"
      },
      "source": [
        "<a href=\"https://colab.research.google.com/github/colinZejda/Summer2023_UCI_ML_Research/blob/main/1_Writing_ResNet_from_Scratch_PyTorch.ipynb\" target=\"_parent\"><img src=\"https://colab.research.google.com/assets/colab-badge.svg\" alt=\"Open In Colab\"/></a>"
      ]
    },
    {
      "cell_type": "markdown",
      "source": [
        "We will create, train and evaluate a ResNet NN for CIFAR-100 image classification\n",
        "\n",
        "https://blog.paperspace.com/writing-resnet-from-scratch-in-pytorch/\n",
        "\n"
      ],
      "metadata": {
        "id": "_m1ioR0ukIKb"
      }
    },
    {
      "cell_type": "markdown",
      "source": [
        "Drawbacks of VGG (visual geometry group), a standard deep CNN\n",
        "\n",
        "*   Couldn't go very deep because it started to lose generalization capability (started overfitting).\n",
        "*   As a neural network gets deeper, the gradients from the loss funciton start to shrink to zero (vanishing gradient), and the weights don't get updated.\n",
        "*   ResNet solves this vanishing gradients problem by using skip connections.\n",
        "*   With skip connections, the output changes from h(x) = f(wx+b) into h(x) = f(x) + x\n",
        "\n",
        "\n",
        "\n"
      ],
      "metadata": {
        "id": "CGmFMbj2kZ6T"
      }
    },
    {
      "cell_type": "markdown",
      "source": [
        "CIFAR-10 dataset\n",
        "\n",
        "*   A common choice for beginner computer vision datasets.\n",
        "*   It has 60k 32x32 color images in 10 different classes (training: 50k, testing: 10k)"
      ],
      "metadata": {
        "id": "gQv3BJ3dljWS"
      }
    },
    {
      "cell_type": "code",
      "source": [
        "# import libraries\n",
        "import numpy as np\n",
        "import torch\n",
        "import torch.nn as nn\n",
        "import torch.nn.functional as F\n",
        "from torchvision import datasets\n",
        "from torchvision import transforms            # provides image transforms\n",
        "from torch.utils.data.sampler import SubsetRandomSampler"
      ],
      "metadata": {
        "id": "bck89Qw9lcDp"
      },
      "execution_count": null,
      "outputs": []
    },
    {
      "cell_type": "code",
      "source": [
        "# device configuration (use NVIDIA cuda if possible)\n",
        "device = torch.device('cuda' if torch.cuda.is_available() else 'cpu')"
      ],
      "metadata": {
        "id": "n4wSrIosmmEE"
      },
      "execution_count": null,
      "outputs": []
    },
    {
      "cell_type": "code",
      "source": [
        "# Loading the dataset\n",
        "def data_loader(data_dir, batch_size, random_seed=42, valid_size=0.1, shuffle=True, test=False):\n",
        "  # normalize data to aid in faster convergence, better accuracy\n",
        "  normalize = transforms.Normalize(\n",
        "              mean=[0.4914, 0.4822, 0.4465],\n",
        "              std=[0.2023, 0.1994, 0.2010])\n",
        "\n",
        "  # define transforms\n",
        "  # to make the image data workable-- convert to proper size, make it pytorch tensor\n",
        "  transform = transforms.Compose([\n",
        "              transforms.Resize((224,224)),\n",
        "              transforms.ToTensor(),\n",
        "              normalize])\n",
        "\n",
        "  if test:             # if testing, not training\n",
        "      dataset = datasets.CIFAR10(\n",
        "                root=data_dir, train=False, download=True, transform=transform)\n",
        "\n",
        "      data_loader = torch.utils.data.DataLoader(\n",
        "                    dataset, batch_size=batch_size, shuffle=shuffle)\n",
        "\n",
        "      return data_loader\n",
        "\n",
        "  # load the dataset\n",
        "  # strange thing: no difference btwn code for train and valid loading\n",
        "  train_dataset = datasets.CIFAR10(\n",
        "        root = data_dir, train=True,\n",
        "        download = True, transform=transform)\n",
        "\n",
        "  valid_dataset = datasets.CIFAR10(\n",
        "        root = data_dir, train=True,\n",
        "        download=True, transform=transform)\n",
        "\n",
        "  num_train = len(train_dataset)\n",
        "  indices = list(range(num_train))\n",
        "  split = int(np.floor(valid_size * num_train))      # validation size (of 0.1) * number_of_training_images\n",
        "\n",
        "  if shuffle:\n",
        "    np.random.seed(42)\n",
        "    np.random.shuffle(indices)\n",
        "\n",
        "  train_idx, valid_idx = indices[split:], indices[split:]\n",
        "  train_sampler = SubsetRandomSampler(train_idx)\n",
        "  valid_sampler = SubsetRandomSampler(valid_idx)\n",
        "\n",
        "  train_loader = torch.utils.data.DataLoader(\n",
        "      train_dataset, batch_size = batch_size, sampler=train_sampler\n",
        "  )\n",
        "\n",
        "  valid_loader = torch.utils.data.DataLoader(valid_dataset, batch_size=batch_size, sampler=valid_sampler)\n",
        "\n",
        "  return (train_loader, valid_loader)\n"
      ],
      "metadata": {
        "id": "RIAFGwRlj80S"
      },
      "execution_count": null,
      "outputs": []
    },
    {
      "cell_type": "code",
      "source": [
        "# CIFAR10 dataset\n",
        "train_loader, valid_loader = data_loader(data_dir='./data', batch_size=64)\n",
        "test_loader = data_loader(data_dir='./data', batch_size=64, test=True)"
      ],
      "metadata": {
        "id": "jokm7O105lrp",
        "colab": {
          "base_uri": "https://localhost:8080/"
        },
        "outputId": "23e0ad0a-e908-4f99-eeae-ace4237070c5"
      },
      "execution_count": null,
      "outputs": [
        {
          "output_type": "stream",
          "name": "stdout",
          "text": [
            "Files already downloaded and verified\n",
            "Files already downloaded and verified\n",
            "Files already downloaded and verified\n"
          ]
        }
      ]
    },
    {
      "cell_type": "markdown",
      "source": [
        "Layers in PyTorch\n",
        "\n",
        "*   nn.Conv2d: convolutional layers that accept the # of input and output channels, as well as kernel size. It can also accept stride or padding if needed.\n",
        "*   nn.BatchNorm2d: applies batch normalization to the output from the convolutional layer. Aka: re-centers and re-scales the data to make the training of ANNs faster and more stable.\n",
        "*   nn.ReLU: a type of activation function applied to various outputs in the network. Max(0, x).\n",
        "*   nn.MaxPool2d: applies max pooling to the output with kernel size given. Aka: selects the maximum element from the region of the feature map covered by the filter (square of kernel_size^2)\n",
        "*   nn.Dropout: used to apply dropout to the output with a given probability. Aka: randomly sets input units to 0 (the practice of diregarding certain nodes in a layer at random during training), which helps prevents overfitting by adding noise.\n",
        "*   nn.Linear: a fully connected layer. Benefit: it is \"structure agnostic\", meaning no special assumptions are made about the input, and it is most malleable-- this layer can \"turn off\" various values of the weights during the matrix multiplication\n",
        "*   nn.Sequential: not a type of layer, but helps in combining different operations that are part of the same step"
      ],
      "metadata": {
        "id": "W7M_KxHF50DN"
      }
    },
    {
      "cell_type": "code",
      "source": [
        "# RESIDUAL BLOCK, can be re-used throughout the network\n",
        "# it contains a skip connection that is an optional parameter\n",
        "    # when adding residual, you can add downsample instead (different path thru the network)\n",
        "class ResidualBlock(nn.Module):\n",
        "  def __init__(self, in_channels, out_channels, stride=1, downsample=None):\n",
        "    super(ResidualBlock, self).__init__()\n",
        "    self.conv1 = nn.Sequential(\n",
        "                    nn.Conv2d(in_channels, out_channels, kernel_size=3, stride=stride, padding=1),\n",
        "                    nn.BatchNorm2d(out_channels),\n",
        "                    nn.ReLU())\n",
        "    self.conv2 = nn.Sequential(\n",
        "                    nn.Conv2d(out_channels, out_channels, kernel_size=3, stride=1, padding=1),\n",
        "                    nn.BatchNorm2d(out_channels))\n",
        "    self.downsample = downsample\n",
        "    self.relu = nn.ReLU()\n",
        "    self.out_channels = out_channels\n",
        "\n",
        "  def forward(self, x):\n",
        "    residual = x\n",
        "    out = self.conv1(x)\n",
        "    out = self.conv2(out)\n",
        "    if self.downsample:\n",
        "      residual = self.downsample(x)\n",
        "    out += residual\n",
        "    out = self.relu(out)\n",
        "    return out"
      ],
      "metadata": {
        "id": "2mGIrM2_6n2h"
      },
      "execution_count": null,
      "outputs": []
    },
    {
      "cell_type": "code",
      "source": [
        "# BUILD RESNET\n",
        "class ResNet(nn.Module):\n",
        "    def __init__(self, block, layers, num_classes = 10):\n",
        "      super(ResNet, self).__init__()        # allows us to avoid referring to base class explicitly (here it's nn.Module)\n",
        "      self.inplanes = 64\n",
        "      self.conv1 = nn.Sequential(\n",
        "                      nn.Conv2d(3, 64, kernel_size=7, stride=2, padding=3),\n",
        "                      nn.BatchNorm2d(64),\n",
        "                      nn.ReLU())\n",
        "      self.maxpool = nn.MaxPool2d(kernel_size=3, stride=2, padding=1)\n",
        "      self.layer0 = self._make_layer(block, 64, layers[0], stride=1)\n",
        "      self.layer1 = self._make_layer(block, 128, layers[1], stride=2)\n",
        "      self.layer2 = self._make_layer(block, 256, layers[2], stride=2)\n",
        "      self.layer3 = self._make_layer(block, 512, layers[3], stride=2)\n",
        "      self.avgpool = nn.AvgPool2d(7, stride=1)\n",
        "      self.fc = nn.Linear(512, num_classes)\n",
        "\n",
        "    def _make_layer(self, block, planes, blocks, stride=1):\n",
        "      downsample = None\n",
        "      if stride != 1 or self.inplanes != planes:         # CONFUSING\n",
        "        downsample = nn.Sequential(\n",
        "                        nn.Conv2d(self.inplanes, planes, kernel_size=1, stride=stride),\n",
        "                        nn.BatchNorm2d(planes))\n",
        "\n",
        "      layers = []\n",
        "      layers.append(block(self.inplanes, planes, stride, downsample))\n",
        "      self.inplanes = planes\n",
        "      for i in range(1, blocks):\n",
        "        layers.append(block(self.inplanes, planes))\n",
        "\n",
        "      return nn.Sequential(*layers)\n",
        "\n",
        "    def forward(self, x):\n",
        "      x = self.conv1(x)\n",
        "      x = self.maxpool(x)\n",
        "      x = self.layer0(x)\n",
        "      x = self.layer1(x)\n",
        "      x = self.layer2(x)\n",
        "      x = self.layer3(x)\n",
        "\n",
        "      x = self.avgpool(x)\n",
        "      x = x.view(x.size(0), -1)\n",
        "      x = self.fc(x)\n",
        "\n",
        "      return x"
      ],
      "metadata": {
        "id": "Ocsea_LC-ptD"
      },
      "execution_count": null,
      "outputs": []
    },
    {
      "cell_type": "code",
      "source": [
        "# Setting Hyperparameters\n",
        "num_classes = 10\n",
        "num_epochs = 20\n",
        "batch_size = 16\n",
        "learning_rate = 0.01\n",
        "\n",
        "\n",
        "# instantiate model\n",
        "model = ResNet(ResidualBlock, [3, 4, 6, 3]).to(device)\n",
        "\n",
        "\n",
        "# loss and optimzer\n",
        "criterion = nn.CrossEntropyLoss()\n",
        "optimizer = torch.optim.SGD(model.parameters(), lr=learning_rate, weight_decay=0.001, momentum=0.9)"
      ],
      "metadata": {
        "id": "RnX4J6BMArjX"
      },
      "execution_count": null,
      "outputs": []
    },
    {
      "cell_type": "code",
      "source": [
        "# TRAINING\n",
        "import gc\n",
        "total_step = len(train_loader)\n",
        "\n",
        "for epoch in range(num_epochs):\n",
        "  for i, (images, labels) in enumerate(train_loader):\n",
        "\n",
        "    # move tensors to configured device\n",
        "    images = images.to(device)\n",
        "    labels = labels.to(device)\n",
        "\n",
        "    # forward pass\n",
        "    outputs = model(images)                # aka y_hat\n",
        "    loss = criterion(outputs, labels)      # calc loss between y_hat and labels\n",
        "\n",
        "    # backward and optimize (backprop)\n",
        "    optimizer.zero_grad()\n",
        "    loss.backward()\n",
        "    optimizer.step()\n",
        "\n",
        "    del images, labels, outputs            # clean up\n",
        "    torch.cuda.empty_cache()\n",
        "    gc.collect()            # gc = garbage collector\n",
        "  print(\"Epoch[{} / {}], Loss: {:.4f}\".format(epoch+1, num_epochs, loss.item()))"
      ],
      "metadata": {
        "id": "9oj8dUjJBN4b"
      },
      "execution_count": null,
      "outputs": []
    },
    {
      "cell_type": "code",
      "source": [
        "# VALIDATION (per loop of outer for loop above)\n",
        "with torch.no_grad():       # don't compute gradient (will make forward passes thru model)\n",
        "  correct = 0\n",
        "  total = 0\n",
        "  for images, labels in valid_loader:\n",
        "    images = images.to(device)\n",
        "    labels = labels.to(device)\n",
        "    ouputs = model(images)\n",
        "    _, predicted = torch.max(outputs.data, 1)\n",
        "    total += labels.size(0)\n",
        "    correct += (predicted == labels).sum().item()\n",
        "    del images, labels, outputs\n",
        "  print(\"Accuracy of the network on the {} validation images: {} %\".format(5000, 100 * correct / total))\n"
      ],
      "metadata": {
        "id": "4tgt24bcCIhj"
      },
      "execution_count": null,
      "outputs": []
    },
    {
      "cell_type": "code",
      "source": [
        "# TESTING\n",
        "with torch.no_grad():\n",
        "  correct = 0\n",
        "  total = 0\n",
        "  for images, labels in test_loader:\n",
        "    images = images.to(device)\n",
        "    labels = images.to(device)\n",
        "    outputs = model(images)\n",
        "    _, predicted = torch.max(outputs.data, 1)\n",
        "    total += labels.size(0)\n",
        "    correct += (predicted == labels).sum().items()\n",
        "    del images, labels, outputs\n",
        "  print(\"Accuracy of the network on the {} test images: {} %\".format(10000, 100 * correct / total))"
      ],
      "metadata": {
        "id": "xZe83U_dCu6u"
      },
      "execution_count": null,
      "outputs": []
    }
  ]
}